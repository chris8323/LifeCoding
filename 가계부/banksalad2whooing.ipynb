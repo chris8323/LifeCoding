{
 "cells": [
  {
   "cell_type": "markdown",
   "metadata": {},
   "source": [
    "# 낭찬하우스 가계부 작성\n",
    "- banksalad app을 통해 다양한 금융기관의 지출, 수입 데이터를 통합 연동 및 수집한다.\n",
    "- 수집한 지출 및 수입 데이터를 banksalad app을 통해 메일로 data를 export한다.\n",
    "- mail로 보내진 data를 download 및 import 하여 자동처리를 진행한다.\n",
    "- 자동처리 되지 않은 data를 수동으로 입력한다. (+카카오페이 지출 데이터)\n",
    "- 처리된 데이터(xls파일을) whooing 가계부 web에 import 시킨다.\n"
   ]
  },
  {
   "cell_type": "code",
   "execution_count": null,
   "metadata": {},
   "outputs": [],
   "source": [
    "import pandas as pd\n",
    "import os\n",
    "import numpy as np"
   ]
  },
  {
   "cell_type": "markdown",
   "metadata": {},
   "source": [
    "### 뱅크샐러드 Raw Data Import"
   ]
  },
  {
   "cell_type": "code",
   "execution_count": null,
   "metadata": {
    "scrolled": true
   },
   "outputs": [],
   "source": [
    "# 메일로 다운받은 파일 import 하기\n",
    "fPath = input()\n",
    "fName = input()\n",
    "df = pd.read_excel('{}\\\\{}.xlsx'.format(fPath, fName), \n",
    "                   sheet_name='가계부 내역'\n",
    "                  )"
   ]
  },
  {
   "cell_type": "code",
   "execution_count": null,
   "metadata": {},
   "outputs": [],
   "source": [
    "# banksalad의 data export 는 자동으로 최근 1년이 설정됨\n",
    "# whooing 가계부에 데이터가 기록된 가장 마지막 날짜 이후 데이터만을 스크립트 대상으로 삼는다.\n",
    "lastDate_in_Whooing = input('마지막 후잉가계부 업데이트일 (yyyymmdd): : ')\n",
    "\n",
    "df2 = df[df['날짜']>=lastDate_in_Whooing]"
   ]
  },
  {
   "cell_type": "markdown",
   "metadata": {},
   "source": [
    "### DataSet 확인"
   ]
  },
  {
   "cell_type": "code",
   "execution_count": null,
   "metadata": {
    "scrolled": true
   },
   "outputs": [],
   "source": [
    "print('\\nDatasize:',df2.shape)\n",
    "print('\\nDatatype \\n',df2['타입'].value_counts())\n",
    "\n",
    "print('\\nCurrency:',df2['화폐'].value_counts()) #KRW 이외의 화폐가 존재한다면 별도 처리 필요\n",
    "\n",
    "print('\\nPayment method\\n',df2['결제수단'].value_counts())"
   ]
  },
  {
   "cell_type": "markdown",
   "metadata": {},
   "source": [
    "### Column 정리"
   ]
  },
  {
   "cell_type": "code",
   "execution_count": null,
   "metadata": {},
   "outputs": [],
   "source": [
    "df2.drop('메모', axis=1, inplace=True)\n",
    "\n",
    "df2.rename({'내용':'메모'}, axis=1, inplace = True)\n",
    "\n",
    "df2 = df2.reindex(['날짜',\n",
    "                        '시간',\n",
    "                        #'대분류',\n",
    "                        #'소분류',                             \n",
    "                        '아이템(괄호)',                             \n",
    "                        '금액',\n",
    "                        #'화폐',                                                         \n",
    "                        '왼쪽',\n",
    "                        '오른쪽',\n",
    "                        '메모',            \n",
    "                        '결제수단',\n",
    "                        '타입',\n",
    "                        ], axis=1)"
   ]
  },
  {
   "cell_type": "markdown",
   "metadata": {},
   "source": [
    "### Data 정리\n"
   ]
  },
  {
   "cell_type": "code",
   "execution_count": null,
   "metadata": {
    "scrolled": true
   },
   "outputs": [],
   "source": [
    "df2.drop(df2.loc[(df2['금액']>0)&(df2['타입']=='지출')].index, inplace=True) #신용카드 취소로 추정되는 데이터 제외\n",
    "\n",
    "df2.drop(df2.loc[(df2['금액']==0)].index, inplace=True) #금액이 0원인 내역들 제외"
   ]
  },
  {
   "cell_type": "markdown",
   "metadata": {},
   "source": [
    "- 각 결제수단별 Debit / Credit 분류\n",
    "- Debit / Credit 분류 이후 금액 모두 양수 처리"
   ]
  },
  {
   "cell_type": "code",
   "execution_count": null,
   "metadata": {},
   "outputs": [],
   "source": [
    "###\n",
    "df2.loc[(df2['금액']<0)&(df2['결제수단']=='찬우 신용카드'),'오른쪽'] = '신용카드(우리/508867)'\n",
    "df2.loc[(df2['금액']<0)&(df2['결제수단']=='찬우 신용카드'),'금액'] = df2.loc[(df2['금액']<0)&(df2['결제수단']=='찬우 신용카드'),'금액']*-1\n",
    "\n",
    "\n",
    "###\n",
    "df2.loc[(df2['금액']>0)&(df2['결제수단'].isin(['우리V체크카드','우리꿈통장','위비 Five 체크','찬우 생활비', '나은 생활비'])),'왼쪽'] = '생활비통장(우리/875309)'\n",
    "df2.loc[(df2['금액']<0)&(df2['결제수단'].isin(['우리V체크카드','우리꿈통장','위비 Five 체크','찬우 생활비', '나은 생활비'])),'오른쪽'] = '생활비통장(우리/875309)'\n",
    "df2.loc[(df2['금액']<0)&(df2['결제수단'].isin(['우리V체크카드','우리꿈통장','위비 Five 체크','찬우 생활비', '나은 생활비'])),'금액'] = df2.loc[(df2['금액']<0)&(df2['결제수단'].isin(['우리V체크카드','우리꿈통장','위비 Five 체크','찬우 생활비', '나은 생활비'])),'금액']*-1\n",
    "\n",
    "\n",
    "###\n",
    "df2.loc[(df2['금액']>0)&(df2['결제수단'].isin(['우리신세대플러스통장'])),'왼쪽'] = '마이너스통장(우리/508867)'\n",
    "df2.loc[(df2['금액']<0)&(df2['결제수단'].isin(['우리신세대플러스통장'])),'오른쪽'] = '마이너스통장(우리/508867)'\n",
    "df2.loc[(df2['금액']<0)&(df2['결제수단'].isin(['우리신세대플러스통장'])),'금액'] = df2.loc[(df2['금액']<0)&(df2['결제수단'].isin(['우리신세대플러스통장'])),'금액']*-1\n",
    "\n",
    "\n",
    "###\n",
    "df2.loc[(df2['금액']>0)&(df2['결제수단'].isin(['우리SUPER주거래통장'])),'왼쪽'] = '급여통장(우리/688431)'\n",
    "df2.loc[(df2['금액']<0)&(df2['결제수단'].isin(['우리SUPER주거래통장'])),'오른쪽'] = '급여통장(우리/688431)'\n",
    "df2.loc[(df2['금액']<0)&(df2['결제수단'].isin(['우리SUPER주거래통장'])),'금액'] = df2.loc[(df2['금액']<0)&(df2['결제수단'].isin(['우리SUPER주거래통장'])),'금액']*-1\n",
    "\n",
    "\n",
    "###\n",
    "df2.loc[(df2['금액']>0)&(df2['결제수단'].isin(['주거래 하나 통장'])),'왼쪽'] = '하나은행_예금계좌'\n",
    "df2.loc[(df2['금액']<0)&(df2['결제수단'].isin(['주거래 하나 통장'])),'오른쪽'] = '하나은행_예금계좌'\n",
    "df2.loc[(df2['금액']<0)&(df2['결제수단'].isin(['주거래 하나 통장'])),'금액'] = df2.loc[(df2['금액']<0)&(df2['결제수단'].isin(['주거래 하나 통장'])),'금액']*-1\n"
   ]
  },
  {
   "cell_type": "markdown",
   "metadata": {},
   "source": [
    "- Debit/Credit 처리가 빠진 거래가 있는지 확인"
   ]
  },
  {
   "cell_type": "code",
   "execution_count": null,
   "metadata": {
    "scrolled": false
   },
   "outputs": [],
   "source": [
    "df2.loc[(df2['왼쪽'].isnull()) & (df2['오른쪽'].isnull())]"
   ]
  },
  {
   "cell_type": "markdown",
   "metadata": {},
   "source": [
    "### 자주사용하는 거래 일괄 처리"
   ]
  },
  {
   "cell_type": "markdown",
   "metadata": {},
   "source": [
    "수입 관련 거래"
   ]
  },
  {
   "cell_type": "code",
   "execution_count": null,
   "metadata": {},
   "outputs": [],
   "source": [
    "df2.loc[(df2['오른쪽'].isnull()) & (df2['메모'].str.contains('급여')), ['오른쪽','아이템(괄호)']] = ['월급','급여']\n",
    "df2.loc[(df2['오른쪽'].isnull()) & (df2['메모'].str.contains('나은')), ['오른쪽','아이템(괄호)']] = ['from나은','나은']\n",
    "df2.loc[(df2['오른쪽'].isnull()) & (df2['메모'].str.contains('예금이자')), ['오른쪽','아이템(괄호)']] = ['이자수익','예금이자']\n",
    "df2.loc[(df2['오른쪽'].isnull()) & (df2['메모'].str.contains('우리체크캐시백')), ['오른쪽','아이템(괄호)']] = ['기타수익','우리체크캐시백']"
   ]
  },
  {
   "cell_type": "code",
   "execution_count": null,
   "metadata": {
    "scrolled": true
   },
   "outputs": [],
   "source": [
    "df2.loc[(df2['오른쪽'].isnull())] "
   ]
  },
  {
   "cell_type": "markdown",
   "metadata": {},
   "source": [
    "비용 관련 거래"
   ]
  },
  {
   "cell_type": "code",
   "execution_count": null,
   "metadata": {},
   "outputs": [],
   "source": [
    "df2.loc[(df2['왼쪽'].isnull()) & (df2['메모'].str.contains('카페')), ['왼쪽','아이템(괄호)']] = ['식비','커피']\n",
    "df2.loc[(df2['왼쪽'].isnull()) & (df2['메모'].str.contains('까페')), ['왼쪽','아이템(괄호)']] = ['식비','커피']\n",
    "df2.loc[(df2['왼쪽'].isnull()) & (df2['메모'].str.contains('커피')), ['왼쪽','아이템(괄호)']] = ['식비','커피']\n",
    "df2.loc[(df2['왼쪽'].isnull()) & (df2['메모'].str.contains('스타벅스')), ['왼쪽','아이템(괄호)']] = ['식비','커피']\n",
    "df2.loc[(df2['왼쪽'].isnull()) & (df2['메모'].str.contains('이디야')), ['왼쪽','아이템(괄호)']] = ['식비','커피']\n",
    "\n",
    "df2.loc[(df2['왼쪽'].isnull()) & (df2['메모'].str.contains('베이커리')), ['왼쪽','아이템(괄호)']] = ['식비','간식(빵)']\n",
    "\n",
    "df2.loc[(df2['왼쪽'].isnull()) & (df2['메모'].str.contains('우아한형제들')), ['왼쪽','아이템(괄호)']] = ['식비','배달의민족']\n",
    "\n",
    "df2.loc[(df2['왼쪽'].isnull()) & (df2['메모'].str.contains('신동아마트')), ['왼쪽','아이템(괄호)']] = ['식비','마트']\n",
    "\n",
    "\n",
    "df2.loc[(df2['왼쪽'].isnull()) & (df2['메모'].str.contains('ＰＣ')), ['왼쪽','아이템(괄호)']] = ['여가','PC방']\n",
    "\n",
    "\n",
    "df2.loc[(df2['왼쪽'].isnull()) & (df2['메모'].str.contains('택시')), ['왼쪽','아이템(괄호)']] = ['교통비','택시']\n",
    "df2.loc[(df2['왼쪽'].isnull()) & (df2['메모'].str.contains('고속버스')), ['왼쪽','아이템(괄호)']] = ['교통비','고속버스']\n",
    "\n",
    "\n",
    "df2.loc[(df2['왼쪽'].isnull()) & (df2['메모'].str.contains('약국')), ['왼쪽','아이템(괄호)']] = ['의료,건강','약국']\n",
    "df2.loc[(df2['왼쪽'].isnull()) & (df2['메모'].str.contains('병원')), ['왼쪽','아이템(괄호)']] = ['의료,건강','병원']\n",
    "df2.loc[(df2['왼쪽'].isnull()) & (df2['메모'].str.contains('한의원')), ['왼쪽','아이템(괄호)']] = ['의료,건강','한의원']\n",
    "\n",
    "\n",
    "df2.loc[(df2['왼쪽'].isnull()) & (df2['메모'].str.contains('KT유선상품 자동')), ['왼쪽','아이템(괄호)']] = ['통신비','KT인터넷+TV']\n",
    "df2.loc[(df2['왼쪽'].isnull()) & (df2['메모'].str.contains('KT통신요금 자동')), ['왼쪽','아이템(괄호)']] = ['통신비','핸드폰']\n",
    "\n",
    "\n",
    "df2.loc[(df2['왼쪽'].isnull()) & (df2['메모'].str.contains('우리카드결제')), ['왼쪽','아이템(괄호)']] = ['신용카드(508867)','신용카드']\n",
    "\n",
    "df2.loc[(df2['왼쪽'].isnull()) & (df2['메모'].str.contains('카카오페이')), ['왼쪽','아이템(괄호)']] = ['카카오페이','이체']\n",
    "df2.loc[(df2['왼쪽'].isnull()) & (df2['메모'].str.contains('벗얼라이브')), ['왼쪽','아이템(괄호)']] = ['식비','커피']\n",
    "df2.loc[(df2['왼쪽'].isnull()) & (df2['메모'].str.contains('ＧＳ２５')), ['왼쪽','아이템(괄호)']] = ['생활용품','편의점']\n",
    "df2.loc[(df2['왼쪽'].isnull()) & (df2['메모'].str.contains('지에스리테일')), ['왼쪽','아이템(괄호)']] = ['식비','마트']\n",
    "\n",
    "\n",
    "df2.loc[(df2['왼쪽'].isnull()) & (df2['메모'].str.contains('쏘카')), ['왼쪽','아이템(괄호)']] = ['교통비','쏘카']\n",
    "df2.loc[(df2['왼쪽'].isnull()) & (df2['메모'].str.contains('파리바게뜨')), ['왼쪽','아이템(괄호)']] = ['식비','간식(빵)']\n",
    "df2.loc[(df2['왼쪽'].isnull()) & (df2['메모'].str.contains('파리크라상')), ['왼쪽','아이템(괄호)']] = ['식비','간식(빵)']\n",
    "df2.loc[(df2['왼쪽'].isnull()) & (df2['메모'].str.contains('피부과')), ['왼쪽','아이템(괄호)']] = ['의료,건강','피부과']\n",
    "df2.loc[(df2['왼쪽'].isnull()) & (df2['메모'].str.contains('버킷플레이스')), ['왼쪽','아이템(괄호)']] = ['생활용품','오늘의집']\n",
    "df2.loc[(df2['왼쪽'].isnull()) & (df2['메모'].str.contains('노브랜드')), ['왼쪽','아이템(괄호)']] = ['식비','마트']\n",
    "\n",
    "df2.loc[(df2['왼쪽'].isnull()) & (df2['메모'].str.contains('GS25')), ['왼쪽','아이템(괄호)']] = ['생활용품','편의점']\n",
    "df2.loc[(df2['왼쪽'].isnull()) & (df2['메모'].str.contains('지에스25')), ['왼쪽','아이템(괄호)']] = ['생활용품','편의점']\n",
    "\n",
    "df2.loc[(df2['왼쪽'].isnull()) & (df2['메모'].str.contains('씨제이올리브네트')), ['왼쪽','아이템(괄호)']] = ['생활용품','올리브영']\n",
    "\n",
    "df2.loc[(df2['왼쪽'].isnull()) & (df2['메모'].str.contains('(주)신세계페이먼츠')), ['왼쪽','아이템(괄호)']] = ['식비','SSG닷컴']\n",
    "\n",
    "\n",
    "df2.loc[(df2['왼쪽'].isnull()) & (df2['메모'].str.contains('준오헤어')), ['왼쪽','아이템(괄호)']] = ['의복,미용','머리']\n",
    "\n",
    "df2.loc[(df2['왼쪽'].isnull()) & (df2['메모'].str.contains('교통-버스')), ['왼쪽','아이템(괄호)']] = ['교통비','버스']\n",
    "df2.loc[(df2['왼쪽'].isnull()) & (df2['메모'].str.contains('교통-지하철')), ['왼쪽','아이템(괄호)']] = ['교통비','지하철']\n",
    "\n",
    "df2.loc[(df2['왼쪽'].isnull()) & (df2['메모'].str.contains('아성다이소')), ['왼쪽','아이템(괄호)']] = ['생활용품','다이소']\n",
    "\n",
    "df2.loc[(df2['왼쪽'].isnull()) & (df2['메모'].str.contains('WORKFLOWY')), ['왼쪽','아이템(괄호)']] = ['지식,문화','Workflowy']\n",
    "df2.loc[(df2['왼쪽'].isnull()) & (df2['메모'].str.contains('WORKFLOWY')), ['왼쪽','아이템(괄호)']] = ['지식,문화','Workflowy']\n",
    "\n",
    "\n",
    "df2.loc[(df2['왼쪽'].isnull()) & (df2['메모'].str.contains('신한20')), ['왼쪽','아이템(괄호)']] = ['보험','보험']\n",
    "df2.loc[(df2['왼쪽'].isnull()) & (df2['메모'].str.contains('DB손')), ['왼쪽','아이템(괄호)']] = ['보험','보험']\n"
   ]
  },
  {
   "cell_type": "code",
   "execution_count": null,
   "metadata": {},
   "outputs": [],
   "source": [
    "df2.loc[(df2['왼쪽'].isnull())] "
   ]
  },
  {
   "cell_type": "markdown",
   "metadata": {},
   "source": [
    "### 정리 결과 Export"
   ]
  },
  {
   "cell_type": "code",
   "execution_count": null,
   "metadata": {},
   "outputs": [],
   "source": [
    "df2.to_excel('{}\\\\whooing_import.xls'.format(fPath), index=False)"
   ]
  },
  {
   "cell_type": "code",
   "execution_count": null,
   "metadata": {},
   "outputs": [],
   "source": []
  }
 ],
 "metadata": {
  "kernelspec": {
   "display_name": "Python 3",
   "language": "python",
   "name": "python3"
  },
  "language_info": {
   "codemirror_mode": {
    "name": "ipython",
    "version": 3
   },
   "file_extension": ".py",
   "mimetype": "text/x-python",
   "name": "python",
   "nbconvert_exporter": "python",
   "pygments_lexer": "ipython3",
   "version": "3.7.4"
  }
 },
 "nbformat": 4,
 "nbformat_minor": 2
}
